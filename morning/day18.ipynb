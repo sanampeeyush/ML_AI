{
 "cells": [
  {
   "cell_type": "code",
   "execution_count": 2,
   "metadata": {},
   "outputs": [],
   "source": [
    "import os\n",
    "os.environ[\"KMP_DUPLICATE_LIB_OK\"]=\"TRUE\""
   ]
  },
  {
   "cell_type": "code",
   "execution_count": 1,
   "metadata": {},
   "outputs": [],
   "source": [
    "import pyttsx3\n",
    "import speech_recognition as sr\n",
    "import nltk"
   ]
  },
  {
   "cell_type": "code",
   "execution_count": 4,
   "metadata": {},
   "outputs": [],
   "source": [
    "spEng = pyttsx3.init()\n",
    "spEng.setProperty('rate',150)"
   ]
  },
  {
   "cell_type": "code",
   "execution_count": 5,
   "metadata": {},
   "outputs": [],
   "source": [
    "spEng.say('Hi')\n",
    "spEng.runAndWait()"
   ]
  },
  {
   "cell_type": "code",
   "execution_count": 6,
   "metadata": {},
   "outputs": [],
   "source": [
    "recognizer = sr.Recognizer()"
   ]
  },
  {
   "cell_type": "code",
   "execution_count": 11,
   "metadata": {},
   "outputs": [
    {
     "name": "stdout",
     "output_type": "stream",
     "text": [
      "Say: result2:\n",
      "{   'alternative': [   {   'confidence': 0.85060418,\n",
      "                           'transcript': \"say something I'm saying something\"},\n",
      "                       {'transcript': 'say something something something'},\n",
      "                       {'transcript': 'say something I am saying something'},\n",
      "                       {'transcript': 'say something and saying something'},\n",
      "                       {'transcript': 'something something something'}],\n",
      "    'final': True}\n",
      "say something I'm saying something\n"
     ]
    }
   ],
   "source": [
    "with sr.Microphone() as mic:\n",
    "    print('Say:',end=' ')\n",
    "    audio = recognizer.listen(mic, timeout=1, phrase_time_limit=2)\n",
    "    try:\n",
    "        text = recognizer.recognize_google(audio)\n",
    "        print(text)\n",
    "        spEng.say(text)\n",
    "        spEng.runAndWait()\n",
    "    except Exception as err:        \n",
    "        print('\\nCould not recognise')"
   ]
  },
  {
   "cell_type": "code",
   "execution_count": 10,
   "metadata": {},
   "outputs": [
    {
     "data": {
      "text/plain": [
       "'I am saying something'"
      ]
     },
     "execution_count": 10,
     "metadata": {},
     "output_type": "execute_result"
    }
   ],
   "source": [
    "text"
   ]
  },
  {
   "cell_type": "code",
   "execution_count": null,
   "metadata": {},
   "outputs": [],
   "source": []
  }
 ],
 "metadata": {
  "kernelspec": {
   "display_name": "Python 3.9.12 ('base')",
   "language": "python",
   "name": "python3"
  },
  "language_info": {
   "codemirror_mode": {
    "name": "ipython",
    "version": 3
   },
   "file_extension": ".py",
   "mimetype": "text/x-python",
   "name": "python",
   "nbconvert_exporter": "python",
   "pygments_lexer": "ipython3",
   "version": "3.9.12"
  },
  "orig_nbformat": 4,
  "vscode": {
   "interpreter": {
    "hash": "249597e788c5407e6e31dbc4066e1ef17aa1b47f95ee138f863f8aea22a4499a"
   }
  }
 },
 "nbformat": 4,
 "nbformat_minor": 2
}
