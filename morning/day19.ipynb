{
 "cells": [
  {
   "cell_type": "code",
   "execution_count": 1,
   "metadata": {},
   "outputs": [],
   "source": [
    "import nltk\n",
    "from nltk.chat.util import Chat, reflections"
   ]
  },
  {
   "cell_type": "code",
   "execution_count": 2,
   "metadata": {},
   "outputs": [
    {
     "data": {
      "text/plain": [
       "{'i am': 'you are',\n",
       " 'i was': 'you were',\n",
       " 'i': 'you',\n",
       " \"i'm\": 'you are',\n",
       " \"i'd\": 'you would',\n",
       " \"i've\": 'you have',\n",
       " \"i'll\": 'you will',\n",
       " 'my': 'your',\n",
       " 'you are': 'I am',\n",
       " 'you were': 'I was',\n",
       " \"you've\": 'I have',\n",
       " \"you'll\": 'I will',\n",
       " 'your': 'my',\n",
       " 'yours': 'mine',\n",
       " 'you': 'me',\n",
       " 'me': 'you'}"
      ]
     },
     "execution_count": 2,
     "metadata": {},
     "output_type": "execute_result"
    }
   ],
   "source": [
    "reflections"
   ]
  },
  {
   "cell_type": "code",
   "execution_count": 3,
   "metadata": {},
   "outputs": [],
   "source": [
    "# nltk.download('all')"
   ]
  },
  {
   "cell_type": "code",
   "execution_count": 9,
   "metadata": {},
   "outputs": [],
   "source": [
    "rules = [\n",
    "    # tuple(ques, list(answers))\n",
    "    (r'aaj garmi (.*) hai', ['mujhe nahi pata %1 hai', 'mein kyo batau',],), \n",
    "    (r'how would I learn NLTK', ['you may go to official doc',],), \n",
    "    (r'or bata kuch naya taaza', ['only maaza', 'sab mast', 'all good',],),\n",
    "]"
   ]
  },
  {
   "cell_type": "code",
   "execution_count": 6,
   "metadata": {},
   "outputs": [
    {
     "name": "stdout",
     "output_type": "stream",
     "text": [
      "Question: aaj garmi kitni hai\n",
      "Answers: \n",
      "\t mujhe nahi pata\n",
      "\t mein kyo batau\n",
      "--------------------\n",
      "Question: how would I learn NLTK\n",
      "Answers: \n",
      "\t you may go to official doc\n",
      "--------------------\n",
      "Question: or bata kuch naya taaza\n",
      "Answers: \n",
      "\t only maaza\n",
      "\t sab mast\n",
      "\t all good\n",
      "--------------------\n"
     ]
    }
   ],
   "source": [
    "for que, ans in rules:\n",
    "    print('Question:', que)\n",
    "    print('Answers: ')\n",
    "    for a in ans:\n",
    "        print('\\t', a)\n",
    "    print('-'*20)"
   ]
  },
  {
   "cell_type": "code",
   "execution_count": 10,
   "metadata": {},
   "outputs": [],
   "source": [
    "cb = Chat(rules, reflections)"
   ]
  },
  {
   "cell_type": "code",
   "execution_count": 12,
   "metadata": {},
   "outputs": [
    {
     "name": "stdout",
     "output_type": "stream",
     "text": [
      "mujhe nahi pata kyo hai\n"
     ]
    }
   ],
   "source": [
    "question = input('Apna sawaal poocho:')\n",
    "resp = cb.respond(question)\n",
    "print(resp)"
   ]
  },
  {
   "cell_type": "code",
   "execution_count": 9,
   "metadata": {},
   "outputs": [
    {
     "name": "stdout",
     "output_type": "stream",
     "text": [
      "None\n",
      "all good\n"
     ]
    }
   ],
   "source": [
    "# cb.converse()"
   ]
  },
  {
   "cell_type": "code",
   "execution_count": null,
   "metadata": {},
   "outputs": [],
   "source": [
    "import pyttsx3\n",
    "import speech_recognition as sr\n",
    "spEng = pyttsx3.init()\n",
    "spEng.setProperty('rate',150)\n",
    "recognizer = sr.Recognizer()\n",
    "with sr.Microphone() as mic:\n",
    "    print('Say:',end=' ')\n",
    "    audio = recognizer.listen(mic, timeout=1, phrase_time_limit=2)\n",
    "    try:\n",
    "        text = recognizer.recognize_google(audio)\n",
    "        print(text)\n",
    "        resp = cb.respond(text)\n",
    "        spEng.say(resp)\n",
    "        spEng.runAndWait()\n",
    "    except Exception as err:        \n",
    "        print('\\nCould not recognise')"
   ]
  },
  {
   "cell_type": "code",
   "execution_count": null,
   "metadata": {},
   "outputs": [],
   "source": []
  },
  {
   "cell_type": "code",
   "execution_count": null,
   "metadata": {},
   "outputs": [],
   "source": [
    "# # Regular Expressions\n",
    "# ()      Capture & Group \n",
    "# .       Any character (except new line)\n",
    "# *       zero or more occurrences\n",
    "# []      set of characters\n",
    "# a-z     all small alphabet\n",
    "# A-Z     all cap alphabet\n",
    "# 0-9     all numbers\n",
    "# ^       starting with\n",
    "# $       ending with\n",
    "# ?       zero or one occurrence only\n",
    "# +       one or more occurrences\n",
    "# {}      exact number of occurrences\n",
    "# \\w      only word characters: alphabet, numbers and underscore\n",
    "# \\W      not word characters"
   ]
  },
  {
   "cell_type": "code",
   "execution_count": null,
   "metadata": {},
   "outputs": [],
   "source": [
    "# flask - web framework\n",
    "!python3 -m pip install flask"
   ]
  },
  {
   "cell_type": "code",
   "execution_count": 13,
   "metadata": {},
   "outputs": [],
   "source": [
    "# Decorator\n",
    "def specialWala(f):\n",
    "    def ekOr():\n",
    "        print('Hi')\n",
    "        f()\n",
    "        print('bye')\n",
    "    return ekOr"
   ]
  },
  {
   "cell_type": "code",
   "execution_count": 14,
   "metadata": {},
   "outputs": [],
   "source": [
    "def simple():\n",
    "    print('wow')"
   ]
  },
  {
   "cell_type": "code",
   "execution_count": 15,
   "metadata": {},
   "outputs": [
    {
     "name": "stdout",
     "output_type": "stream",
     "text": [
      "wow\n"
     ]
    }
   ],
   "source": [
    "simple()"
   ]
  },
  {
   "cell_type": "code",
   "execution_count": 16,
   "metadata": {},
   "outputs": [],
   "source": [
    "simple = specialWala(simple)"
   ]
  },
  {
   "cell_type": "code",
   "execution_count": 17,
   "metadata": {},
   "outputs": [
    {
     "name": "stdout",
     "output_type": "stream",
     "text": [
      "Hi\n",
      "wow\n",
      "bye\n"
     ]
    }
   ],
   "source": [
    "simple()"
   ]
  },
  {
   "cell_type": "code",
   "execution_count": 18,
   "metadata": {},
   "outputs": [],
   "source": [
    "@specialWala\n",
    "def ekSimple():\n",
    "    print('nice')"
   ]
  },
  {
   "cell_type": "code",
   "execution_count": 19,
   "metadata": {},
   "outputs": [
    {
     "name": "stdout",
     "output_type": "stream",
     "text": [
      "Hi\n",
      "nice\n",
      "bye\n"
     ]
    }
   ],
   "source": [
    "ekSimple()"
   ]
  },
  {
   "cell_type": "code",
   "execution_count": null,
   "metadata": {},
   "outputs": [],
   "source": []
  }
 ],
 "metadata": {
  "kernelspec": {
   "display_name": "Python 3.9.12 ('base')",
   "language": "python",
   "name": "python3"
  },
  "language_info": {
   "codemirror_mode": {
    "name": "ipython",
    "version": 3
   },
   "file_extension": ".py",
   "mimetype": "text/x-python",
   "name": "python",
   "nbconvert_exporter": "python",
   "pygments_lexer": "ipython3",
   "version": "3.9.12"
  },
  "orig_nbformat": 4,
  "vscode": {
   "interpreter": {
    "hash": "249597e788c5407e6e31dbc4066e1ef17aa1b47f95ee138f863f8aea22a4499a"
   }
  }
 },
 "nbformat": 4,
 "nbformat_minor": 2
}
