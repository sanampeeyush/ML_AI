{
 "cells": [
  {
   "cell_type": "code",
   "execution_count": 1,
   "metadata": {},
   "outputs": [],
   "source": [
    "# Actual Programming\n",
    "\n",
    "# Logics\n",
    "# 1. Conditions\n",
    "# 2. Loops\n",
    "# 3. Errors\n",
    "# 4. Functions\n",
    "# 5. Classes\n",
    "# 6. Library\n",
    "\n"
   ]
  },
  {
   "cell_type": "code",
   "execution_count": 2,
   "metadata": {},
   "outputs": [
    {
     "name": "stdout",
     "output_type": "stream",
     "text": [
      "Or ye to bada hai\n",
      "Ye bhi theek hi hai\n",
      "ye ho gaya\n",
      "Sab khatam\n"
     ]
    }
   ],
   "source": [
    "# Suites in python\n",
    "##########################\n",
    "# statement:\n",
    "#     content\n",
    "#     content\n",
    "# statement2:\n",
    "#     content\n",
    "#     stmt3:\n",
    "#         morecontent\n",
    "\n",
    "a = 10\n",
    "if(a > 5):\n",
    "    print(\"Or ye to bada hai\")\n",
    "    if(a < 100):\n",
    "        print(\"Ye bhi theek hi hai\")\n",
    "    print('ye ho gaya')    \n",
    "elif (a < -20):\n",
    "    print(\"Ye bahut chhota hai\")\n",
    "elif (a == 3):\n",
    "    print('ye wala 3 hai')\n",
    "else:\n",
    "    print(\"Ye theek hai\")\n",
    "print('Sab khatam')\n",
    "\n",
    "\n",
    "# int a = 10;\n",
    "# if(a > 5)\n",
    "# {\n",
    "# printf(\"Or ye to bada hai\");\n",
    "# if(a < 100)\n",
    "# {\n",
    "# printf(\"Ye bhi theek hai\");\n",
    "# }\n",
    "# } \n",
    "# else if (a < -20)\n",
    "# {\n",
    "# printf(\"Ye bahut chhota hai\");\n",
    "# }\n",
    "# else \n",
    "# {\n",
    "# printf(\"Ye theek hai\");\n",
    "# }"
   ]
  },
  {
   "cell_type": "code",
   "execution_count": 3,
   "metadata": {},
   "outputs": [],
   "source": [
    "# Conditional Statement\n",
    "    # if-elif-else\n",
    "# Looping\n",
    "    # while-else\n",
    "    # for-else\n",
    "    # continue/break\n",
    "# Error Handling\n",
    "    # try-except-else-finally\n",
    "\n",
    "# User Defined Functions\n",
    "    # def\n",
    "\n",
    "# Classes\n",
    "    # class"
   ]
  },
  {
   "cell_type": "code",
   "execution_count": 1,
   "metadata": {},
   "outputs": [
    {
     "name": "stdout",
     "output_type": "stream",
     "text": [
      "hello\n",
      "hello\n",
      "hello\n",
      "hello\n",
      "hello\n",
      "hello\n",
      "hello\n"
     ]
    }
   ],
   "source": [
    "a = 20\n",
    "while a > 0:\n",
    "    print('hello')\n",
    "    a -= 3"
   ]
  },
  {
   "cell_type": "code",
   "execution_count": 5,
   "metadata": {},
   "outputs": [
    {
     "name": "stdout",
     "output_type": "stream",
     "text": [
      "hello 20\n",
      "one more\n",
      "hello 17\n",
      "one more\n",
      "hello 14\n"
     ]
    }
   ],
   "source": [
    "a = 20\n",
    "while a > 0:\n",
    "    print('hello', a)\n",
    "    a -= 3\n",
    "    if (a == 11):\n",
    "        break\n",
    "    if(a < 10):\n",
    "        continue\n",
    "    print('one more')"
   ]
  },
  {
   "cell_type": "code",
   "execution_count": 7,
   "metadata": {},
   "outputs": [
    {
     "name": "stdout",
     "output_type": "stream",
     "text": [
      "hello 20\n",
      "one more\n",
      "hello 17\n",
      "one more\n",
      "hello 14\n"
     ]
    }
   ],
   "source": [
    "a = 20\n",
    "while a > 0:\n",
    "    print('hello', a)\n",
    "    a -= 3\n",
    "    if (a == 11):\n",
    "        break    \n",
    "    print('one more')\n",
    "else:\n",
    "    print('Achha ab pata chala')"
   ]
  },
  {
   "cell_type": "code",
   "execution_count": 8,
   "metadata": {},
   "outputs": [
    {
     "name": "stdout",
     "output_type": "stream",
     "text": [
      "h\n",
      "e\n",
      "l\n",
      "l\n",
      "o\n"
     ]
    }
   ],
   "source": [
    "# for - each\n",
    "for i in 'hello':\n",
    "    print(i)"
   ]
  },
  {
   "cell_type": "code",
   "execution_count": 10,
   "metadata": {},
   "outputs": [
    {
     "name": "stdout",
     "output_type": "stream",
     "text": [
      "*\n",
      "**\n",
      "***\n",
      "****\n",
      "*****\n",
      "******\n",
      "*******\n",
      "********\n",
      "*********\n",
      "**********\n"
     ]
    }
   ],
   "source": [
    "for i in range(1,11):\n",
    "    print(i * '*')"
   ]
  },
  {
   "cell_type": "code",
   "execution_count": null,
   "metadata": {},
   "outputs": [],
   "source": []
  }
 ],
 "metadata": {
  "kernelspec": {
   "display_name": "Python 3.10.7 64-bit",
   "language": "python",
   "name": "python3"
  },
  "language_info": {
   "codemirror_mode": {
    "name": "ipython",
    "version": 3
   },
   "file_extension": ".py",
   "mimetype": "text/x-python",
   "name": "python",
   "nbconvert_exporter": "python",
   "pygments_lexer": "ipython3",
   "version": "3.10.7"
  },
  "orig_nbformat": 4,
  "vscode": {
   "interpreter": {
    "hash": "aee8b7b246df8f9039afb4144a1f6fd8d2ca17a180786b69acc140d282b71a49"
   }
  }
 },
 "nbformat": 4,
 "nbformat_minor": 2
}
